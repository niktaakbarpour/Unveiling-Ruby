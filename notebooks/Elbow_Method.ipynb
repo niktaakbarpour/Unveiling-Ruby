{
  "nbformat": 4,
  "nbformat_minor": 0,
  "metadata": {
    "colab": {
      "provenance": [],
      "machine_shape": "hm",
      "gpuType": "L4"
    },
    "kernelspec": {
      "name": "python3",
      "display_name": "Python 3"
    },
    "language_info": {
      "name": "python"
    },
    "accelerator": "GPU"
  },
  "cells": [
    {
      "cell_type": "code",
      "execution_count": null,
      "metadata": {
        "colab": {
          "base_uri": "https://localhost:8080/"
        },
        "id": "xSxr2zHQZga2",
        "outputId": "8cbab809-002a-4c6d-e867-8c51647eba2b"
      },
      "outputs": [
        {
          "output_type": "stream",
          "name": "stdout",
          "text": [
            "Mounted at /content/drive\n"
          ]
        }
      ],
      "source": [
        "from google.colab import drive\n",
        "drive.mount('/content/drive')"
      ]
    },
    {
      "cell_type": "code",
      "source": [
        "!pip install --extra-index-url=https://pypi.nvidia.com cuml-cu12==24.4.*\n",
        "import cuml"
      ],
      "metadata": {
        "colab": {
          "base_uri": "https://localhost:8080/"
        },
        "id": "gaYegoOjeBPW",
        "outputId": "e9e7b561-7bbe-4a26-a45e-ffba46a52b9f",
        "collapsed": true
      },
      "execution_count": null,
      "outputs": [
        {
          "output_type": "stream",
          "name": "stdout",
          "text": [
            "Looking in indexes: https://pypi.org/simple, https://pypi.nvidia.com\n",
            "Collecting cuml-cu12==24.4.*\n",
            "  Downloading https://pypi.nvidia.com/cuml-cu12/cuml_cu12-24.4.0-cp310-cp310-manylinux_2_17_x86_64.manylinux2014_x86_64.whl (1200.7 MB)\n",
            "\u001b[2K     \u001b[90m━━━━━━━━━━━━━━━━━━━━━━━━━━━━━━━━━━━━━━━━\u001b[0m \u001b[32m1.2/1.2 GB\u001b[0m \u001b[31m1.8 MB/s\u001b[0m eta \u001b[36m0:00:00\u001b[0m\n",
            "\u001b[?25hRequirement already satisfied: cudf-cu12==24.4.* in /usr/local/lib/python3.10/dist-packages (from cuml-cu12==24.4.*) (24.4.1)\n",
            "Requirement already satisfied: cupy-cuda12x>=12.0.0 in /usr/local/lib/python3.10/dist-packages (from cuml-cu12==24.4.*) (12.2.0)\n",
            "Collecting dask-cuda==24.4.* (from cuml-cu12==24.4.*)\n",
            "  Downloading dask_cuda-24.4.0-py3-none-any.whl (126 kB)\n",
            "\u001b[2K     \u001b[90m━━━━━━━━━━━━━━━━━━━━━━━━━━━━━━━━━━━━━━━━\u001b[0m \u001b[32m126.6/126.6 kB\u001b[0m \u001b[31m3.7 MB/s\u001b[0m eta \u001b[36m0:00:00\u001b[0m\n",
            "\u001b[?25hCollecting dask-cudf-cu12==24.4.* (from cuml-cu12==24.4.*)\n",
            "  Downloading https://pypi.nvidia.com/dask-cudf-cu12/dask_cudf_cu12-24.4.1-py3-none-any.whl (48 kB)\n",
            "\u001b[2K     \u001b[90m━━━━━━━━━━━━━━━━━━━━━━━━━━━━━━━━━━━━━━━━\u001b[0m \u001b[32m48.9/48.9 kB\u001b[0m \u001b[31m8.2 MB/s\u001b[0m eta \u001b[36m0:00:00\u001b[0m\n",
            "\u001b[?25hRequirement already satisfied: joblib>=0.11 in /usr/local/lib/python3.10/dist-packages (from cuml-cu12==24.4.*) (1.4.2)\n",
            "Requirement already satisfied: numba>=0.57 in /usr/local/lib/python3.10/dist-packages (from cuml-cu12==24.4.*) (0.58.1)\n",
            "Collecting pylibraft-cu12==24.4.* (from cuml-cu12==24.4.*)\n",
            "  Downloading https://pypi.nvidia.com/pylibraft-cu12/pylibraft_cu12-24.4.0-cp310-cp310-manylinux_2_17_x86_64.manylinux2014_x86_64.whl (823.0 MB)\n",
            "\u001b[2K     \u001b[90m━━━━━━━━━━━━━━━━━━━━━━━━━━━━━━━━━━━━━━━━\u001b[0m \u001b[32m823.0/823.0 MB\u001b[0m \u001b[31m2.4 MB/s\u001b[0m eta \u001b[36m0:00:00\u001b[0m\n",
            "\u001b[?25hCollecting raft-dask-cu12==24.4.* (from cuml-cu12==24.4.*)\n",
            "  Downloading https://pypi.nvidia.com/raft-dask-cu12/raft_dask_cu12-24.4.0-cp310-cp310-manylinux_2_17_x86_64.manylinux2014_x86_64.whl (170.1 MB)\n",
            "\u001b[2K     \u001b[90m━━━━━━━━━━━━━━━━━━━━━━━━━━━━━━━━━━━━━━━━\u001b[0m \u001b[32m170.1/170.1 MB\u001b[0m \u001b[31m5.8 MB/s\u001b[0m eta \u001b[36m0:00:00\u001b[0m\n",
            "\u001b[?25hCollecting rapids-dask-dependency==24.4.* (from cuml-cu12==24.4.*)\n",
            "  Downloading https://pypi.nvidia.com/rapids-dask-dependency/rapids_dask_dependency-24.4.1-py3-none-any.whl (15 kB)\n",
            "Requirement already satisfied: rmm-cu12==24.4.* in /usr/local/lib/python3.10/dist-packages (from cuml-cu12==24.4.*) (24.4.0)\n",
            "Requirement already satisfied: scipy>=1.8.0 in /usr/local/lib/python3.10/dist-packages (from cuml-cu12==24.4.*) (1.11.4)\n",
            "Collecting treelite==4.1.2 (from cuml-cu12==24.4.*)\n",
            "  Downloading treelite-4.1.2-py3-none-manylinux2014_x86_64.whl (810 kB)\n",
            "\u001b[2K     \u001b[90m━━━━━━━━━━━━━━━━━━━━━━━━━━━━━━━━━━━━━━━━\u001b[0m \u001b[32m810.9/810.9 kB\u001b[0m \u001b[31m9.5 MB/s\u001b[0m eta \u001b[36m0:00:00\u001b[0m\n",
            "\u001b[?25hRequirement already satisfied: cachetools in /usr/local/lib/python3.10/dist-packages (from cudf-cu12==24.4.*->cuml-cu12==24.4.*) (5.3.3)\n",
            "Requirement already satisfied: cuda-python<13.0a0,>=12.0 in /usr/local/lib/python3.10/dist-packages (from cudf-cu12==24.4.*->cuml-cu12==24.4.*) (12.2.1)\n",
            "Requirement already satisfied: fsspec>=0.6.0 in /usr/local/lib/python3.10/dist-packages (from cudf-cu12==24.4.*->cuml-cu12==24.4.*) (2023.6.0)\n",
            "Requirement already satisfied: numpy<2.0a0,>=1.23 in /usr/local/lib/python3.10/dist-packages (from cudf-cu12==24.4.*->cuml-cu12==24.4.*) (1.25.2)\n",
            "Requirement already satisfied: nvtx>=0.2.1 in /usr/local/lib/python3.10/dist-packages (from cudf-cu12==24.4.*->cuml-cu12==24.4.*) (0.2.10)\n",
            "Requirement already satisfied: packaging in /usr/local/lib/python3.10/dist-packages (from cudf-cu12==24.4.*->cuml-cu12==24.4.*) (24.0)\n",
            "Requirement already satisfied: pandas<2.2.2dev0,>=2.0 in /usr/local/lib/python3.10/dist-packages (from cudf-cu12==24.4.*->cuml-cu12==24.4.*) (2.0.3)\n",
            "Requirement already satisfied: protobuf<5,>=3.20 in /usr/local/lib/python3.10/dist-packages (from cudf-cu12==24.4.*->cuml-cu12==24.4.*) (3.20.3)\n",
            "Requirement already satisfied: pynvjitlink-cu12 in /usr/local/lib/python3.10/dist-packages (from cudf-cu12==24.4.*->cuml-cu12==24.4.*) (0.2.3)\n",
            "Requirement already satisfied: pyarrow<15.0.0a0,>=14.0.1 in /usr/local/lib/python3.10/dist-packages (from cudf-cu12==24.4.*->cuml-cu12==24.4.*) (14.0.2)\n",
            "Requirement already satisfied: rich in /usr/local/lib/python3.10/dist-packages (from cudf-cu12==24.4.*->cuml-cu12==24.4.*) (13.7.1)\n",
            "Requirement already satisfied: typing_extensions>=4.0.0 in /usr/local/lib/python3.10/dist-packages (from cudf-cu12==24.4.*->cuml-cu12==24.4.*) (4.12.1)\n",
            "Requirement already satisfied: click>=8.1 in /usr/local/lib/python3.10/dist-packages (from dask-cuda==24.4.*->cuml-cu12==24.4.*) (8.1.7)\n",
            "Collecting pynvml<11.5,>=11.0.0 (from dask-cuda==24.4.*->cuml-cu12==24.4.*)\n",
            "  Downloading pynvml-11.4.1-py3-none-any.whl (46 kB)\n",
            "\u001b[2K     \u001b[90m━━━━━━━━━━━━━━━━━━━━━━━━━━━━━━━━━━━━━━━━\u001b[0m \u001b[32m47.0/47.0 kB\u001b[0m \u001b[31m7.7 MB/s\u001b[0m eta \u001b[36m0:00:00\u001b[0m\n",
            "\u001b[?25hRequirement already satisfied: zict>=2.0.0 in /usr/local/lib/python3.10/dist-packages (from dask-cuda==24.4.*->cuml-cu12==24.4.*) (3.0.0)\n",
            "Collecting ucx-py-cu12==0.37.* (from raft-dask-cu12==24.4.*->cuml-cu12==24.4.*)\n",
            "  Downloading https://pypi.nvidia.com/ucx-py-cu12/ucx_py_cu12-0.37.0-cp310-cp310-manylinux_2_17_x86_64.manylinux2014_x86_64.whl (7.7 MB)\n",
            "\u001b[2K     \u001b[90m━━━━━━━━━━━━━━━━━━━━━━━━━━━━━━━━━━━━━━━━\u001b[0m \u001b[32m7.7/7.7 MB\u001b[0m \u001b[31m102.3 MB/s\u001b[0m eta \u001b[36m0:00:00\u001b[0m\n",
            "\u001b[?25hCollecting dask==2024.1.1 (from rapids-dask-dependency==24.4.*->cuml-cu12==24.4.*)\n",
            "  Downloading dask-2024.1.1-py3-none-any.whl (1.2 MB)\n",
            "\u001b[2K     \u001b[90m━━━━━━━━━━━━━━━━━━━━━━━━━━━━━━━━━━━━━━━━\u001b[0m \u001b[32m1.2/1.2 MB\u001b[0m \u001b[31m14.9 MB/s\u001b[0m eta \u001b[36m0:00:00\u001b[0m\n",
            "\u001b[?25hCollecting distributed==2024.1.1 (from rapids-dask-dependency==24.4.*->cuml-cu12==24.4.*)\n",
            "  Downloading distributed-2024.1.1-py3-none-any.whl (1.0 MB)\n",
            "\u001b[2K     \u001b[90m━━━━━━━━━━━━━━━━━━━━━━━━━━━━━━━━━━━━━━━━\u001b[0m \u001b[32m1.0/1.0 MB\u001b[0m \u001b[31m21.0 MB/s\u001b[0m eta \u001b[36m0:00:00\u001b[0m\n",
            "\u001b[?25hCollecting dask-expr==0.4.0 (from rapids-dask-dependency==24.4.*->cuml-cu12==24.4.*)\n",
            "  Downloading dask_expr-0.4.0-py3-none-any.whl (161 kB)\n",
            "\u001b[2K     \u001b[90m━━━━━━━━━━━━━━━━━━━━━━━━━━━━━━━━━━━━━━━━\u001b[0m \u001b[32m161.7/161.7 kB\u001b[0m \u001b[31m20.0 MB/s\u001b[0m eta \u001b[36m0:00:00\u001b[0m\n",
            "\u001b[?25hRequirement already satisfied: cloudpickle>=1.5.0 in /usr/local/lib/python3.10/dist-packages (from dask==2024.1.1->rapids-dask-dependency==24.4.*->cuml-cu12==24.4.*) (2.2.1)\n",
            "Requirement already satisfied: partd>=1.2.0 in /usr/local/lib/python3.10/dist-packages (from dask==2024.1.1->rapids-dask-dependency==24.4.*->cuml-cu12==24.4.*) (1.4.2)\n",
            "Requirement already satisfied: pyyaml>=5.3.1 in /usr/local/lib/python3.10/dist-packages (from dask==2024.1.1->rapids-dask-dependency==24.4.*->cuml-cu12==24.4.*) (6.0.1)\n",
            "Requirement already satisfied: toolz>=0.10.0 in /usr/local/lib/python3.10/dist-packages (from dask==2024.1.1->rapids-dask-dependency==24.4.*->cuml-cu12==24.4.*) (0.12.1)\n",
            "Requirement already satisfied: importlib-metadata>=4.13.0 in /usr/local/lib/python3.10/dist-packages (from dask==2024.1.1->rapids-dask-dependency==24.4.*->cuml-cu12==24.4.*) (7.1.0)\n",
            "Requirement already satisfied: jinja2>=2.10.3 in /usr/local/lib/python3.10/dist-packages (from distributed==2024.1.1->rapids-dask-dependency==24.4.*->cuml-cu12==24.4.*) (3.1.4)\n",
            "Requirement already satisfied: locket>=1.0.0 in /usr/local/lib/python3.10/dist-packages (from distributed==2024.1.1->rapids-dask-dependency==24.4.*->cuml-cu12==24.4.*) (1.0.0)\n",
            "Requirement already satisfied: msgpack>=1.0.0 in /usr/local/lib/python3.10/dist-packages (from distributed==2024.1.1->rapids-dask-dependency==24.4.*->cuml-cu12==24.4.*) (1.0.8)\n",
            "Requirement already satisfied: psutil>=5.7.2 in /usr/local/lib/python3.10/dist-packages (from distributed==2024.1.1->rapids-dask-dependency==24.4.*->cuml-cu12==24.4.*) (5.9.5)\n",
            "Requirement already satisfied: sortedcontainers>=2.0.5 in /usr/local/lib/python3.10/dist-packages (from distributed==2024.1.1->rapids-dask-dependency==24.4.*->cuml-cu12==24.4.*) (2.4.0)\n",
            "Requirement already satisfied: tblib>=1.6.0 in /usr/local/lib/python3.10/dist-packages (from distributed==2024.1.1->rapids-dask-dependency==24.4.*->cuml-cu12==24.4.*) (3.0.0)\n",
            "Requirement already satisfied: tornado>=6.0.4 in /usr/local/lib/python3.10/dist-packages (from distributed==2024.1.1->rapids-dask-dependency==24.4.*->cuml-cu12==24.4.*) (6.3.3)\n",
            "Requirement already satisfied: urllib3>=1.24.3 in /usr/local/lib/python3.10/dist-packages (from distributed==2024.1.1->rapids-dask-dependency==24.4.*->cuml-cu12==24.4.*) (2.0.7)\n",
            "Requirement already satisfied: fastrlock>=0.5 in /usr/local/lib/python3.10/dist-packages (from cupy-cuda12x>=12.0.0->cuml-cu12==24.4.*) (0.8.2)\n",
            "Requirement already satisfied: llvmlite<0.42,>=0.41.0dev0 in /usr/local/lib/python3.10/dist-packages (from numba>=0.57->cuml-cu12==24.4.*) (0.41.1)\n",
            "Requirement already satisfied: cython in /usr/local/lib/python3.10/dist-packages (from cuda-python<13.0a0,>=12.0->cudf-cu12==24.4.*->cuml-cu12==24.4.*) (3.0.10)\n",
            "Requirement already satisfied: python-dateutil>=2.8.2 in /usr/local/lib/python3.10/dist-packages (from pandas<2.2.2dev0,>=2.0->cudf-cu12==24.4.*->cuml-cu12==24.4.*) (2.8.2)\n",
            "Requirement already satisfied: pytz>=2020.1 in /usr/local/lib/python3.10/dist-packages (from pandas<2.2.2dev0,>=2.0->cudf-cu12==24.4.*->cuml-cu12==24.4.*) (2023.4)\n",
            "Requirement already satisfied: tzdata>=2022.1 in /usr/local/lib/python3.10/dist-packages (from pandas<2.2.2dev0,>=2.0->cudf-cu12==24.4.*->cuml-cu12==24.4.*) (2024.1)\n",
            "Requirement already satisfied: markdown-it-py>=2.2.0 in /usr/local/lib/python3.10/dist-packages (from rich->cudf-cu12==24.4.*->cuml-cu12==24.4.*) (3.0.0)\n",
            "Requirement already satisfied: pygments<3.0.0,>=2.13.0 in /usr/local/lib/python3.10/dist-packages (from rich->cudf-cu12==24.4.*->cuml-cu12==24.4.*) (2.16.1)\n",
            "Requirement already satisfied: zipp>=0.5 in /usr/local/lib/python3.10/dist-packages (from importlib-metadata>=4.13.0->dask==2024.1.1->rapids-dask-dependency==24.4.*->cuml-cu12==24.4.*) (3.19.1)\n",
            "Requirement already satisfied: MarkupSafe>=2.0 in /usr/local/lib/python3.10/dist-packages (from jinja2>=2.10.3->distributed==2024.1.1->rapids-dask-dependency==24.4.*->cuml-cu12==24.4.*) (2.1.5)\n",
            "Requirement already satisfied: mdurl~=0.1 in /usr/local/lib/python3.10/dist-packages (from markdown-it-py>=2.2.0->rich->cudf-cu12==24.4.*->cuml-cu12==24.4.*) (0.1.2)\n",
            "Requirement already satisfied: six>=1.5 in /usr/local/lib/python3.10/dist-packages (from python-dateutil>=2.8.2->pandas<2.2.2dev0,>=2.0->cudf-cu12==24.4.*->cuml-cu12==24.4.*) (1.16.0)\n",
            "Installing collected packages: pynvml, ucx-py-cu12, treelite, dask, pylibraft-cu12, distributed, dask-expr, rapids-dask-dependency, dask-cudf-cu12, dask-cuda, raft-dask-cu12, cuml-cu12\n",
            "  Attempting uninstall: dask\n",
            "    Found existing installation: dask 2023.8.1\n",
            "    Uninstalling dask-2023.8.1:\n",
            "      Successfully uninstalled dask-2023.8.1\n",
            "  Attempting uninstall: distributed\n",
            "    Found existing installation: distributed 2023.8.1\n",
            "    Uninstalling distributed-2023.8.1:\n",
            "      Successfully uninstalled distributed-2023.8.1\n",
            "Successfully installed cuml-cu12-24.4.0 dask-2024.1.1 dask-cuda-24.4.0 dask-cudf-cu12-24.4.1 dask-expr-0.4.0 distributed-2024.1.1 pylibraft-cu12-24.4.0 pynvml-11.4.1 raft-dask-cu12-24.4.0 rapids-dask-dependency-24.4.1 treelite-4.1.2 ucx-py-cu12-0.37.0\n"
          ]
        }
      ]
    },
    {
      "cell_type": "code",
      "source": [
        "#!pip install --extra-index-url=https://pypi.nvidia.com cuml-cu12==24.4.*\n",
        "#!pip install bertopic==0.16.2\n",
        "#from bertopic import BERTopic\n",
        "#from bertopic.dimensionality import BaseDimensionalityReduction\n",
        "#import cuml\n",
        "import os\n",
        "import numpy as np\n",
        "import pandas as pd\n",
        "import matplotlib.pyplot as plt\n",
        "from tqdm import tqdm\n",
        "import gc\n",
        "\n",
        "colors = {\n",
        "    1: ['#003f5c'],\n",
        "    2: ['#003f5c', '#ffa600'],\n",
        "    3: ['#003f5c', '#bc5090', '#ffa600'],\n",
        "    4: ['#003f5c', '#7a5195', '#ef5675', '#ffa600'],\n",
        "    5: ['#003f5c', '#58508d', '#bc5090', '#ff6361', '#ffa600'],\n",
        "    6: ['#003f5c', '#444e86', '#955196', '#dd5182','#ff6e54', '#ffa600'],\n",
        "    7: ['#003f5c', '#374c80', '#7a5195', '#bc5090', '#ef5675', '#ff764a', '#ffa600'],\n",
        "    8: ['#003f5c', '#2f4b7c', '#665191', '#a05195', '#d45087', '#f95d6a', '#ff7c43', '#ffa600']\n",
        "    }\n",
        "\n",
        "#import seaborn as sns"
      ],
      "metadata": {
        "id": "lWweN6-wZ698"
      },
      "execution_count": null,
      "outputs": []
    },
    {
      "cell_type": "code",
      "source": [
        "directory = f\"/content/drive/MyDrive/Nikta\"\n",
        "path = os.path.join(directory, 'Data', '50k_random_seed_42_embeddings.npy')\n",
        "embeddings = np.load(path)"
      ],
      "metadata": {
        "id": "QUAzq5VXaAC_"
      },
      "execution_count": null,
      "outputs": []
    },
    {
      "cell_type": "code",
      "source": [
        "len(embeddings)"
      ],
      "metadata": {
        "colab": {
          "base_uri": "https://localhost:8080/"
        },
        "id": "YnEaEK1r-Q25",
        "outputId": "febd901c-32b9-46a2-fda7-49ac8a1229ef"
      },
      "execution_count": null,
      "outputs": [
        {
          "output_type": "execute_result",
          "data": {
            "text/plain": [
              "50000"
            ]
          },
          "metadata": {},
          "execution_count": 9
        }
      ]
    },
    {
      "cell_type": "code",
      "source": [
        "directory = f\"/content/drive/MyDrive/Nikta/Data\"\n",
        "path = os.path.join(directory, 'deduplicated_data2.csv')\n",
        "posts = pd.read_csv(path, encoding = 'utf-8')"
      ],
      "metadata": {
        "id": "N9yg40b9dtUO"
      },
      "execution_count": null,
      "outputs": []
    },
    {
      "cell_type": "code",
      "source": [
        "posts.columns"
      ],
      "metadata": {
        "colab": {
          "base_uri": "https://localhost:8080/"
        },
        "id": "iOTn8WDvez3T",
        "outputId": "85ab3a40-da6f-48be-b0df-d2bda52c0f16"
      },
      "execution_count": null,
      "outputs": [
        {
          "output_type": "execute_result",
          "data": {
            "text/plain": [
              "Index(['Id', 'Title', 'Body', 'CreationDate', 'Score', 'ViewCount', 'Tags',\n",
              "       'AnswerCount', 'CommentCount', 'FavoriteCount', 'CombinedText'],\n",
              "      dtype='object')"
            ]
          },
          "metadata": {},
          "execution_count": 6
        }
      ]
    },
    {
      "cell_type": "code",
      "source": [
        "Titles = posts['Title'].to_list()\n",
        "Bodies = posts['Body'].to_list()\n",
        "posts['Combined'] = [f\"Title: {Titles[i]}, Body: {Bodies[i]}\" for i in range(posts.shape[0])]"
      ],
      "metadata": {
        "id": "SdtXmHQ9ft6V"
      },
      "execution_count": null,
      "outputs": []
    },
    {
      "cell_type": "code",
      "source": [
        "posts = posts.sample(n=5, random_state=42)\n",
        "posts.index.values[0]"
      ],
      "metadata": {
        "colab": {
          "base_uri": "https://localhost:8080/"
        },
        "id": "mca4sUuzsEoh",
        "outputId": "36f1ec20-74f4-45ab-9391-64234854173f"
      },
      "execution_count": null,
      "outputs": [
        {
          "output_type": "execute_result",
          "data": {
            "text/plain": [
              "194968"
            ]
          },
          "metadata": {},
          "execution_count": 8
        }
      ]
    },
    {
      "cell_type": "code",
      "source": [
        "# Elbow Mehtod to choose k in kmeans for clustering the embeddings for topic modeling\n",
        "def elbow(embeddings, ks):\n",
        "    models = []\n",
        "    for k in tqdm(ks):\n",
        "        gc.collect()\n",
        "        model = cuml.KMeans(n_clusters=k, random_state=0)\n",
        "        model.fit(embeddings)\n",
        "        models.append(model)\n",
        "    return models\n",
        "\n",
        "start = 1\n",
        "end = 150\n",
        "step = 1\n",
        "ks = range(start, end + 1, step)\n",
        "models = elbow(embeddings, ks=ks)\n",
        "\n",
        "\n",
        "path = ''\n",
        "#with open(path, 'wb') as file:\n",
        "#    pickle.dump(models, file)"
      ],
      "metadata": {
        "colab": {
          "base_uri": "https://localhost:8080/"
        },
        "id": "vfMHMrNOaLSS",
        "outputId": "c410a09e-8fc8-41f5-f5b3-c91d2b47b121"
      },
      "execution_count": null,
      "outputs": [
        {
          "output_type": "stream",
          "name": "stderr",
          "text": [
            "100%|██████████| 150/150 [28:15<00:00, 11.30s/it]\n"
          ]
        }
      ]
    },
    {
      "cell_type": "code",
      "source": [
        "inertias_list = [model.inertia_ for model in models]"
      ],
      "metadata": {
        "id": "fM6L4TZK_Zp1"
      },
      "execution_count": null,
      "outputs": []
    },
    {
      "cell_type": "code",
      "source": [
        "# Plotting inertia\n",
        "plt.figure(figsize=(12, 6))\n",
        "plt.subplot(1, 2, 1)\n",
        "\n",
        "plt.plot(ks, inertias_list, 'o', color = colors[2][0])\n",
        "plt.xlabel('k: number of clusters')\n",
        "plt.ylabel('inertia')\n",
        "plt.xticks([1] + list(range(10, 101, 10)))\n",
        "plt.title('')\n",
        "#plt.title('Elbow Method showing the optimal k')\n",
        "\n",
        "\n",
        "zoom_range = list(range(4, 100, 5)) + [0] #+ list(range(39, 100, 10))\n",
        "\n",
        "plt.subplot(1, 2, 2)\n",
        "plt.plot([ks[i] for i in zoom_range], [inertias_list[i] for i in zoom_range], 'o', color = colors[2][1])\n",
        "plt.xlabel('k: number of clusters')\n",
        "plt.ylabel('inertia')\n",
        "#plt.yticks(range(13000, 27000 + 1, 2000))\n",
        "plt.xticks([i + 1 for i in zoom_range])\n",
        "plt.title('')\n",
        "\n",
        "plt.show()"
      ],
      "metadata": {
        "colab": {
          "base_uri": "https://localhost:8080/",
          "height": 545
        },
        "id": "8oyfizvFaTCR",
        "outputId": "2fa3a17d-499b-426b-b948-30df7f11c345"
      },
      "execution_count": null,
      "outputs": [
        {
          "output_type": "display_data",
          "data": {
            "text/plain": [
              "<Figure size 1200x600 with 2 Axes>"
            ],
            "image/png": "[encoded data removed]"
          },
          "metadata": {}
        }
      ]
    },
    {
      "cell_type": "markdown",
      "source": [
        "# Topic Modeling"
      ],
      "metadata": {
        "id": "2AZCZsAoCL1n"
      }
    },
    {
      "cell_type": "code",
      "source": [
        "from google.colab import drive\n",
        "drive.mount('/content/drive')"
      ],
      "metadata": {
        "id": "77OLRipTCTVo"
      },
      "execution_count": null,
      "outputs": []
    },
    {
      "cell_type": "code",
      "source": [
        "!pip install --extra-index-url=https://pypi.nvidia.com cuml-cu12==24.4.*\n",
        "!pip install bertopic==0.16.2\n",
        "#!pip install bertopic==0.16.0\n",
        "from bertopic import BERTopic\n",
        "from bertopic.dimensionality import BaseDimensionalityReduction\n",
        "import cuml\n",
        "import os\n",
        "import numpy as np\n",
        "#import pandas as pd\n",
        "#import matplotlib.pyplot as plt\n",
        "#import seaborn as sns"
      ],
      "metadata": {
        "id": "snVSJQaJCVpv"
      },
      "execution_count": null,
      "outputs": []
    },
    {
      "cell_type": "code",
      "source": [
        "import re\n",
        "import string\n",
        "import nltk\n",
        "from nltk.corpus import stopwords\n",
        "\n",
        "nltk.download('stopwords')\n",
        "\n",
        "stopwords = stopwords.words('english')\n",
        "\n",
        "def preprocess_text(\n",
        "        text, stop_words = stopwords, lowercase = True, remove_usernames = True, remove_URLs = True, remove_domains_path = True,\n",
        "        remove_punctuations = True, remove_digits = True, reduce_consecutive_characters = True,\n",
        "        reduce_immediate_duplicate_words = True, spell_check = True, remove_stop_words = True):\n",
        "\n",
        "    # Convert text to lowercase\n",
        "    if(lowercase):\n",
        "        text = text.lower()\n",
        "\n",
        "    # Remove @usernames\n",
        "    if(remove_usernames):\n",
        "        text = re.sub(r'@\\w+', '', text)\n",
        "\n",
        "    # URL removal\n",
        "    if(remove_URLs):\n",
        "        text = re.sub(r'\\S*http\\S+', '', text)\n",
        "        text = re.sub(r'\\S*www.\\S+', '', text)\n",
        "        text = re.sub(r'\\S*/\\S+', '', text)\n",
        "\n",
        "    # Domain/Path Removal\n",
        "    if(remove_domains_path):\n",
        "        text = re.sub(r'\\S+\\.\\S+' , '', text)\n",
        "        text = re.sub(r'\\S*\\\\\\S+' , '', text)\n",
        "\n",
        "    text = re.sub(r'\\S*bot\\S*', '', text)\n",
        "\n",
        "    # Consecutive Character Reduction\n",
        "    if(reduce_consecutive_characters):\n",
        "        text = re.sub(r'(.)\\1{2,}', r'\\1', text)\n",
        "\n",
        "    # Immediate Duplicate Word Removal\n",
        "    if(reduce_immediate_duplicate_words):\n",
        "        text = re.sub(r'\\b(\\w+)(\\s+\\1){1,}\\b', r'\\1', text)\n",
        "\n",
        "    # Spell Checker\n",
        "    if(spell_check):\n",
        "        spell = SpellChecker()\n",
        "        corrected_text = []\n",
        "        for word in text.split():\n",
        "            corrected_word = spell.correction(word)\n",
        "            corrected_text.append(corrected_word if corrected_word else word)\n",
        "        text = ' '.join(corrected_text)\n",
        "\n",
        "\n",
        "    # Remove punctuations\n",
        "    if(remove_punctuations):\n",
        "        text = text.translate(str.maketrans('', '', string.punctuation))\n",
        "\n",
        "    # Remove digits\n",
        "    if(remove_digits):\n",
        "        text = re.sub(r'\\d+', '', text)\n",
        "\n",
        "    # Remove stop words\n",
        "    if(remove_stop_words and stop_words):\n",
        "        text = ' '.join([word for word in text.split() if word not in stop_words])\n",
        "\n",
        "    # Whitespace Normalization\n",
        "    text = re.sub(r'\\s+', ' ', text).strip()\n",
        "\n",
        "    return text"
      ],
      "metadata": {
        "id": "pVLRw3ZVC5Z8"
      },
      "execution_count": null,
      "outputs": []
    },
    {
      "cell_type": "code",
      "source": [
        "cleaned_messages = [preprocess_text(\n",
        "        message, stop_words = stopwords, lowercase = True, remove_usernames = True, remove_URLs = True, remove_domains_path = True,\n",
        "        remove_punctuations = True, remove_digits = True, reduce_consecutive_characters = False,\n",
        "        reduce_immediate_duplicate_words = True, spell_check = False, remove_stop_words = True) for message in messages]"
      ],
      "metadata": {
        "id": "Jpxp4bPsCqz2"
      },
      "execution_count": null,
      "outputs": []
    },
    {
      "cell_type": "code",
      "source": [
        "# This needs cuml\n",
        "from sklearn.feature_extraction.text import CountVectorizer\n",
        "\n",
        "empty_dimensionality_model = BaseDimensionalityReduction()\n",
        "kmeans = cuml.KMeans(n_clusters=36, random_state=0)\n",
        "vectorizer_model = CountVectorizer(ngram_range=(1, 2), max_df = 0.4)\n",
        "k = 36\n",
        "\n",
        "kmeans = cuml.KMeans(n_clusters=k, random_state=0) # this needs graphics card and cuda\n",
        "#kmeans = KMeans(n_clusters=k, random_state=0) # Slow CPU version\n",
        "topic_model = BERTopic(umap_model=empty_dimensionality_model, hdbscan_model=kmeans, verbose=True, top_n_words=10, vectorizer_model = vectorizer_model)\n",
        "topics, _ = topic_model.fit_transform(cleaned_messages, embeddings)"
      ],
      "metadata": {
        "id": "x42GGfQnCqry"
      },
      "execution_count": null,
      "outputs": []
    }
  ]
}